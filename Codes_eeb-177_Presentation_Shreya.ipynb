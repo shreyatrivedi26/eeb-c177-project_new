{
 "cells": [
  {
   "cell_type": "markdown",
   "metadata": {},
   "source": [
    "# Codes for the Presentation:"
   ]
  },
  {
   "cell_type": "markdown",
   "metadata": {},
   "source": [
    "## Spatial Plots in Python:"
   ]
  },
  {
   "cell_type": "code",
   "execution_count": null,
   "metadata": {},
   "outputs": [],
   "source": [
    "import matplotlib.pylab as plt\n",
    "from netCDF4 import Dataset, num2date\n",
    "import pandas as pd\n",
    "from mpl_toolkits.basemap import Basemap\n",
    "import numpy as np\n",
    "%matplotlib inline\n",
    "import xarray"
   ]
  },
  {
   "cell_type": "code",
   "execution_count": null,
   "metadata": {},
   "outputs": [],
   "source": [
    "f = Dataset('envisat_SIT_fb_snow-AMSR_sh_2002_2011_ease2_w50000.nc')"
   ]
  },
  {
   "cell_type": "code",
   "execution_count": null,
   "metadata": {},
   "outputs": [],
   "source": [
    "#storing the variables\n",
    "SIT = f.variables['SIT'][:]\n",
    "time = f.variables['time']\n",
    "lon = f.variables['longitude'][:]\n",
    "lat = f.variables['latitude'][:]"
   ]
  },
  {
   "cell_type": "code",
   "execution_count": null,
   "metadata": {},
   "outputs": [],
   "source": [
    "mask_June = periods.month==6 #selecting over the JUnes for all the years\n",
    "data_June = SIT[mask_June].mean(axis=0) ##averaging over the JUnes for all the years\n",
    "plt_map(data_June)\n",
    "plt.title('SIT: June, 2002-2010')\n",
    "\n",
    "mask_Oct = periods.month==10 #averaging over the Octobers for all the years\n",
    "data_Oct = SIT[mask_Oct].mean(axis=0)\n",
    "plt_map(data_Oct)\n",
    "plt.title('SIT: October, 2002-2010')"
   ]
  },
  {
   "cell_type": "markdown",
   "metadata": {},
   "source": [
    "## Time series analysis in R:"
   ]
  },
  {
   "cell_type": "code",
   "execution_count": null,
   "metadata": {},
   "outputs": [],
   "source": [
    "library ( ggplot2 ) # This package helps in creating visualiz ations in R\n",
    "\n",
    "# setting the directory from where files would be read\n",
    "setwd ( \" / home/ e ebc177st udent / Developer / Repos / eeb - c177 - project / python-scripting \" ) \n",
    "\n",
    "# Importing the . csv file from the directory : those separated by commas\n",
    "sit <- read . csv ( \" SIT _ average . csv \" , sep = \" ,\" , header = T ) \n",
    "\n",
    "# Finding the anomalies and storing it in a new column within the dataset \"sit\"\n",
    "sit $ anomaly <- sit $ col1 - mean ( sit $ col1 ) \n",
    "\n",
    "St _ Dev <- sd ( sit $ anomaly ) # finding the standard deviation of the\n",
    "column anomaly St _ Dev2 <- 2 * sd ( sit $ anomaly ) # Twice the deviation\n",
    "\n",
    "#The as . date function creates the list of dates and spaces them according to defined \n",
    "#’ by = ’ function which in this case is months . Hence , we get a list of monthly values . seq () function\n",
    "#creates a continuous sequence of the dates defined .\n",
    "tm = seq ( as . Date ( \" 2002 -10 -15 \" ) , as . Date ( \" 2011 -09 -15 \" ) , by = \" months \" ) \n",
    "\n",
    "# converting the dates into a data frame\n",
    "dates <- as . data . frame ( tm )\n",
    "\n",
    "dates $ month <- months ( dates $ tm , abbreviate = T ) # creating a newcolumn in the dataframe ’ dates ’ called months \n",
    "#which contain the\" months \" of the dates . month () helps in generating the months corresponding to the dates .\n",
    "\n",
    "winter _ spring <- subset ( dates , month % in % c ( \" May \" ,\" Jun \" ,\" Jul \" ,\" Aug \"\n",
    ",\" Sep \" ,\" Oct \" ) ) # subset () is used for filtering the required values from a given dataframe . \n",
    "#Here , it is the months from May to Oct .\n",
    "\n",
    "ggplot ( sit , aes ( x = winter _ spring $ tm , y = sit $ anomaly ) ) +\n",
    "geom _ line () +\n",
    "geom _ ribbon ( aes ( ymin = St _ Dev * -1 , ymax = St _ Dev , fill = St _ Dev ) ,\n",
    "alpha = .15) +\n",
    "geom _ ribbon ( aes ( ymin = St _ Dev2 * -1 , ymax = St _ Dev2 , fill = St _ Dev2\n",
    ") , alpha = .15) +\n",
    "geom _ smooth ( method = \" lm \" , size =1 , alpha = .2 , level =0.99) + ylim ( c\n",
    "( -0.5 ,0.5) ) + xlab ( \" Years \" ) +\n",
    "ylab ( \" Anomalies \" ) + ggtitle ( \" SIT Anomalies with mean deviations\n",
    "(2002 -2011) \" ) + labs ( colur = \" Standard Deviation \" )\n",
    "                                  \n",
    "# geom _ line () under ggplot package creates a line plot for anomalies. \n",
    "#The line plot is overlaid by smoothed trend line using a method =\" lm \" which means linear model .\n",
    "# geom _ ribbon () displays a y interval defined by ymin and ymax which \n",
    "#here are defined by the positive and negative values of Standard deviation ( SD ) and 2 * SD ."
   ]
  },
  {
   "cell_type": "code",
   "execution_count": null,
   "metadata": {},
   "outputs": [],
   "source": [
    "dens _ sit <- ggplot ( data = sit , aes ( x = sit $ anomaly , y = winter _ spring$month , fill = stat ( x ) ) ) \n",
    "# ggplot () loads in the dataset and assigns values for x and y axes from \n",
    "#the dataset entered . fill = is the command used to fill in the values with colours which here are the anomalies.\n",
    "\n",
    "#Note that we need to map the calculated x value ( stat ( x ) ) onto the\n",
    "#fill aesthetic , not the original temperature variable . This is\n",
    "#the case because geom _ density _ ridges _ gradient calls stat _\n",
    "#density _ ridges ( described in the next section ) which calculates\n",
    "#new x values as part of its density calculation .\n",
    "\n",
    "\n",
    "dd _ plot = dens _ sit + geom _ density _ ridges _ gradient ( rel _ min _ height =0.01)+ \n",
    "# This function uses density estimates and creates ridge - lines with colour gradients filled with the \n",
    "#SIT anomalies in a month. The height represents the the max . peak heights and gaps between the other curves .\n",
    "\n",
    "scale _ fill _ viridis _ c ( name = \" SIT ( in m ) \" , option = \" C \" ) + # The viridis scales provide colour maps\n",
    "# that are perceptually uniform in both colour and black - and - white . The option = ’C ’ denotes colour .\n",
    "\n",
    "#Labels and Title\n",
    "xlab ( \" SIT \" ) + ylab ( \" Months \" ) + ggtitle ( \" Density Estimates : SIT for Winter - Spring (2002 -2011) \" ) \n",
    "                                                  \n",
    "dd_plot"
   ]
  },
  {
   "cell_type": "code",
   "execution_count": null,
   "metadata": {},
   "outputs": [],
   "source": []
  }
 ],
 "metadata": {
  "kernelspec": {
   "display_name": "Python 3",
   "language": "python",
   "name": "python3"
  },
  "language_info": {
   "codemirror_mode": {
    "name": "ipython",
    "version": 3
   },
   "file_extension": ".py",
   "mimetype": "text/x-python",
   "name": "python",
   "nbconvert_exporter": "python",
   "pygments_lexer": "ipython3",
   "version": "3.7.5"
  }
 },
 "nbformat": 4,
 "nbformat_minor": 2
}
